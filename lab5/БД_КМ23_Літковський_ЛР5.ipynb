{
 "cells": [
  {
   "cell_type": "markdown",
   "metadata": {},
   "source": [
    "## Setup"
   ]
  },
  {
   "cell_type": "code",
   "execution_count": 150,
   "metadata": {},
   "outputs": [
    {
     "data": {
      "text/plain": [
       "EagerResult(records=[], summary=<neo4j._work.summary.ResultSummary object at 0x10fde8c80>, keys=[])"
      ]
     },
     "execution_count": 150,
     "metadata": {},
     "output_type": "execute_result"
    }
   ],
   "source": [
    "from neo4j import GraphDatabase, Record\n",
    "\n",
    "\n",
    "# Connect to DB\n",
    "URI = 'neo4j://localhost:7687/'\n",
    "AUTH = ('neo4j', '123neo4j')\n",
    "\n",
    "driver = GraphDatabase.driver(URI, auth=AUTH)\n",
    "\n",
    "driver.verify_connectivity()\n",
    "\n",
    "\n",
    "# Remove old data\n",
    "driver.execute_query('MATCH (a) -[r] -> () DELETE a, r')\n",
    "driver.execute_query('MATCH (a) DELETE a')\n",
    "\n",
    "\n",
    "# Import nodes\n",
    "driver.execute_query(\n",
    "    '''\n",
    "    LOAD CSV WITH HEADERS FROM $url AS row\n",
    "    MERGE (i:Item {itemID: toInteger(row.itemID), name: row.name, price: toInteger(row.price)});\n",
    "    ''',\n",
    "    url='https://raw.githubusercontent.com/Artem-Litkovskyi/kpi-db/master/lab5/import/items.csv'\n",
    ")\n",
    "\n",
    "driver.execute_query(\n",
    "    '''\n",
    "    LOAD CSV WITH HEADERS FROM $url AS row\n",
    "    MERGE (c:Customer {customerID: toInteger(row.customerID), name: row.name});\n",
    "    ''',\n",
    "    url='https://raw.githubusercontent.com/Artem-Litkovskyi/kpi-db/master/lab5/import/customers.csv'\n",
    ")\n",
    "\n",
    "driver.execute_query(\n",
    "    '''\n",
    "    LOAD CSV WITH HEADERS FROM $url AS row\n",
    "    MERGE (o:Order {orderID: toInteger(row.orderID)});\n",
    "    ''',\n",
    "    url='https://raw.githubusercontent.com/Artem-Litkovskyi/kpi-db/master/lab5/import/bought.csv'\n",
    ")\n",
    "\n",
    "\n",
    "# Import arrows\n",
    "driver.execute_query(\n",
    "    '''\n",
    "    LOAD CSV WITH HEADERS FROM $url AS row\n",
    "    MATCH (c:Customer {customerID: toInteger(row.customerID)})\n",
    "    MATCH (o:Order {orderID: toInteger(row.orderID)})\n",
    "    CREATE (c)-[:BOUGHT]->(o);\n",
    "    ''',\n",
    "    url='https://raw.githubusercontent.com/Artem-Litkovskyi/kpi-db/master/lab5/import/bought.csv'\n",
    ")\n",
    "\n",
    "driver.execute_query(\n",
    "    '''\n",
    "    LOAD CSV WITH HEADERS FROM $url AS row\n",
    "    MATCH (o:Order {orderID: toInteger(row.orderID)})\n",
    "    MATCH (i:Item {itemID: toInteger(row.itemID)})\n",
    "    CREATE (o)-[:CONTAINS]->(i);\n",
    "    ''',\n",
    "    url='https://raw.githubusercontent.com/Artem-Litkovskyi/kpi-db/master/lab5/import/contains.csv'\n",
    ")\n",
    "\n",
    "driver.execute_query(\n",
    "    '''\n",
    "    LOAD CSV WITH HEADERS FROM $url AS row\n",
    "    MATCH (c:Customer {customerID: toInteger(row.customerID)})\n",
    "    MATCH (i:Item {itemID: toInteger(row.itemID)})\n",
    "    CREATE (c)-[:VIEWED]->(i);\n",
    "    ''',\n",
    "    url='https://raw.githubusercontent.com/Artem-Litkovskyi/kpi-db/master/lab5/import/viewed.csv'\n",
    ")"
   ]
  },
  {
   "cell_type": "markdown",
   "metadata": {},
   "source": [
    "## Queries"
   ]
  },
  {
   "cell_type": "code",
   "execution_count": 151,
   "metadata": {},
   "outputs": [],
   "source": [
    "def print_nodes(records, record_key, *keys):\n",
    "    nodes = tuple(map(lambda r: r.data()[record_key], records))\n",
    "\n",
    "    if len(keys) == 0:\n",
    "        keys = nodes[0].keys()\n",
    "\n",
    "    print_records(nodes, *keys)\n",
    "\n",
    "\n",
    "def print_aggregate(records, *keys):\n",
    "    for k in keys:\n",
    "        print(f'{k.upper()}: {records[0].data()[k]}')\n",
    "\n",
    "\n",
    "def print_records(records, *keys):\n",
    "    values = {k: [] for k in keys}\n",
    "    for r in records:\n",
    "        if type(r) == Record:\n",
    "            r = r.data()\n",
    "        for k in keys:\n",
    "            values[k].append(r[k])\n",
    "    \n",
    "    lenght = {}\n",
    "    for k in keys:\n",
    "        lenght[k] = max(map(lambda x: len(str(x)), values[k]))\n",
    "    \n",
    "    for i in range(len(records)):\n",
    "        print(' '.join(f'{k.capitalize()}: {values[k][i]: <{lenght[k]}}' for k in keys))"
   ]
  },
  {
   "cell_type": "code",
   "execution_count": 152,
   "metadata": {},
   "outputs": [
    {
     "name": "stdout",
     "output_type": "stream",
     "text": [
      "Name: Samsung Galaxy S25 Ultra Price: 67999\n",
      "Name: Apple iPhone 16 Pro      Price: 61499\n",
      "Name: Samsung UE43T5300AUXUA   Price: 15199\n",
      "SUM: 144697\n"
     ]
    }
   ],
   "source": [
    "order_id = 3\n",
    "\n",
    "records, summary, keys = driver.execute_query(\n",
    "    'MATCH (:Order {orderID: $order_id})-[:CONTAINS]->(i) RETURN i',\n",
    "    order_id=order_id\n",
    ")\n",
    "\n",
    "print_nodes(records, 'i', 'name', 'price')\n",
    "\n",
    "records, summary, keys = driver.execute_query(\n",
    "    'MATCH (:Order {orderID: $order_id})-[:CONTAINS]->(i) RETURN sum(i.price) AS sum',\n",
    "    order_id=order_id\n",
    ")\n",
    "\n",
    "print_aggregate(records, 'sum')"
   ]
  },
  {
   "cell_type": "code",
   "execution_count": 153,
   "metadata": {},
   "outputs": [
    {
     "name": "stdout",
     "output_type": "stream",
     "text": [
      "BOUGHT:\n",
      "Name: Apple iPhone 13      Price: 25499\n",
      "Name: Philips 43PUS8009/12 Price: 20999\n",
      "COUNT: 2\n",
      "SUM: 46498\n",
      "\n",
      "VIEWED:\n",
      "Name: Apple Watch SE       Price: 12599\n",
      "Name: Apple iPhone 13      Price: 25499\n",
      "Name: Philips 43PUS8009/12 Price: 20999\n"
     ]
    }
   ],
   "source": [
    "customer_id = 1\n",
    "\n",
    "records, summary, keys = driver.execute_query(\n",
    "    'MATCH (:Customer {customerID: $customer_id})-[:BOUGHT]->()-[:CONTAINS]->(i) RETURN i',\n",
    "    customer_id=customer_id\n",
    ")\n",
    "\n",
    "print('BOUGHT:')\n",
    "print_nodes(records, 'i', 'name', 'price')\n",
    "\n",
    "records, summary, keys = driver.execute_query(\n",
    "    '''\n",
    "    MATCH (:Customer {customerID: $customer_id})-[:BOUGHT]->()-[:CONTAINS]->(i)\n",
    "    RETURN count(i) AS count, sum(i.price) AS sum\n",
    "    ''',\n",
    "    customer_id=customer_id\n",
    ")\n",
    "\n",
    "print_aggregate(records, 'count', 'sum')\n",
    "\n",
    "records, summary, keys = driver.execute_query(\n",
    "    'MATCH (:Customer {customerID: $customer_id})-[:VIEWED]->(i) RETURN i',\n",
    "    customer_id=customer_id\n",
    ")\n",
    "\n",
    "print('\\nVIEWED:')\n",
    "print_nodes(records, 'i', 'name', 'price')"
   ]
  },
  {
   "cell_type": "code",
   "execution_count": 154,
   "metadata": {},
   "outputs": [
    {
     "name": "stdout",
     "output_type": "stream",
     "text": [
      "Name: Apple iPhone 13            Count: 4\n",
      "Name: Apple Watch SE             Count: 4\n",
      "Name: Xiaomi Redmi Watch 5       Count: 4\n",
      "Name: Apple iPhone 16 Pro        Count: 3\n",
      "Name: Samsung Galaxy S25 Ultra   Count: 3\n",
      "Name: Samsung Galaxy Watch Ultra Count: 3\n",
      "Name: Philips 43PUS8009/12       Count: 3\n",
      "Name: LG 50UR78006LK             Count: 2\n",
      "Name: Samsung Galaxy A16         Count: 1\n",
      "Name: Samsung UE43T5300AUXUA     Count: 1\n"
     ]
    }
   ],
   "source": [
    "records, summary, keys = driver.execute_query(\n",
    "    '''\n",
    "    MATCH (i:Item)<-[:CONTAINS]-()\n",
    "    RETURN i.name AS name, count(i) AS count\n",
    "    ORDER BY count DESC\n",
    "    ''',\n",
    "    customer_id=customer_id\n",
    ")\n",
    "\n",
    "print_records(records, *keys)"
   ]
  },
  {
   "cell_type": "code",
   "execution_count": 155,
   "metadata": {},
   "outputs": [
    {
     "name": "stdout",
     "output_type": "stream",
     "text": [
      "ITEM:\n",
      "Name: Samsung Galaxy S25 Ultra Price: 67999\n",
      "\n",
      "BOUGHT WITH:\n",
      "Name: Samsung Galaxy Watch Ultra Price: 28999\n",
      "Name: Xiaomi Redmi Watch 5       Price: 4499 \n",
      "Name: Apple Watch SE             Price: 12599\n",
      "Name: Apple iPhone 16 Pro        Price: 61499\n",
      "Name: Samsung UE43T5300AUXUA     Price: 15199\n",
      "Name: LG 50UR78006LK             Price: 21499\n",
      "Name: Apple Watch SE             Price: 12599\n",
      "\n",
      "ORDERED BY:\n",
      "Name: Diana Wilson\n",
      "Name: Ian Wilson  \n",
      "Name: Fiona Garcia\n"
     ]
    }
   ],
   "source": [
    "item_id = 3\n",
    "\n",
    "records, summary, keys = driver.execute_query(\n",
    "    'MATCH (i:Item {itemID: $item_id}) RETURN i',\n",
    "    item_id=item_id\n",
    ")\n",
    "\n",
    "print('ITEM:')\n",
    "print_nodes(records, 'i', 'name', 'price')\n",
    "\n",
    "records, summary, keys = driver.execute_query(\n",
    "    'MATCH (:Item {itemID: $item_id})<-[:CONTAINS]-()-[:CONTAINS]->(i) RETURN i',\n",
    "    item_id=item_id\n",
    ")\n",
    "\n",
    "print('\\nBOUGHT WITH:')\n",
    "print_nodes(records, 'i', 'name', 'price')\n",
    "\n",
    "records, summary, keys = driver.execute_query(\n",
    "    'MATCH (:Item {itemID: $item_id})<-[:CONTAINS]-()<-[:BOUGHT]->(c) RETURN c',\n",
    "    item_id=item_id\n",
    ")\n",
    "\n",
    "print('\\nORDERED BY:')\n",
    "print_nodes(records, 'c', 'name')"
   ]
  },
  {
   "cell_type": "code",
   "execution_count": 156,
   "metadata": {},
   "outputs": [
    {
     "name": "stdout",
     "output_type": "stream",
     "text": [
      "\n",
      "VIEWED:\n",
      "Name: Samsung Galaxy A16         Price: 9499 \n",
      "Name: LG 50UR78006LK             Price: 21499\n",
      "Name: Samsung Galaxy S25 Ultra   Price: 67999\n",
      "Name: Apple iPhone 16 Pro        Price: 61499\n",
      "Name: Apple Watch SE             Price: 12599\n",
      "Name: Philips 43PUS8009/12       Price: 20999\n",
      "Name: Samsung Galaxy Watch Ultra Price: 28999\n",
      "Name: Apple iPhone 13            Price: 25499\n",
      "\n",
      "BOUGHT:\n",
      "Name: Apple Watch SE       Price: 12599\n",
      "Name: Apple iPhone 13      Price: 25499\n",
      "Name: Philips 43PUS8009/12 Price: 20999\n",
      "Name: LG 50UR78006LK       Price: 21499\n",
      "\n",
      "VIEWED BUT HAVEN'T BOUGHT:\n",
      "Name: Samsung Galaxy A16         Price: 9499 \n",
      "Name: Samsung Galaxy S25 Ultra   Price: 67999\n",
      "Name: Apple iPhone 16 Pro        Price: 61499\n",
      "Name: Samsung Galaxy Watch Ultra Price: 28999\n"
     ]
    }
   ],
   "source": [
    "customer_id = 2\n",
    "\n",
    "records, summary, keys = driver.execute_query(\n",
    "    'MATCH (:Customer {customerID: $customer_id})-[:VIEWED]->(i) RETURN i',\n",
    "    customer_id=customer_id\n",
    ")\n",
    "\n",
    "print('\\nVIEWED:')\n",
    "print_nodes(records, 'i', 'name', 'price')\n",
    "\n",
    "records, summary, keys = driver.execute_query(\n",
    "    'MATCH (:Customer {customerID: $customer_id})-[:BOUGHT]->()-[:CONTAINS]->(i) RETURN i',\n",
    "    customer_id=customer_id\n",
    ")\n",
    "\n",
    "print('\\nBOUGHT:')\n",
    "print_nodes(records, 'i', 'name', 'price')\n",
    "\n",
    "records, summary, keys = driver.execute_query(\n",
    "    '''\n",
    "    MATCH (c:Customer {customerID: $customer_id})-[:VIEWED]->(i)\n",
    "    WHERE NOT (c)-[:BOUGHT]->()-[:CONTAINS]->(i)\n",
    "    RETURN i\n",
    "    ''',\n",
    "    customer_id=customer_id\n",
    ")\n",
    "\n",
    "print('\\nVIEWED BUT HAVEN\\'T BOUGHT:')\n",
    "print_nodes(records, 'i', 'name', 'price')"
   ]
  }
 ],
 "metadata": {
  "kernelspec": {
   "display_name": "Python 3",
   "language": "python",
   "name": "python3"
  },
  "language_info": {
   "codemirror_mode": {
    "name": "ipython",
    "version": 3
   },
   "file_extension": ".py",
   "mimetype": "text/x-python",
   "name": "python",
   "nbconvert_exporter": "python",
   "pygments_lexer": "ipython3",
   "version": "3.13.2"
  }
 },
 "nbformat": 4,
 "nbformat_minor": 2
}
