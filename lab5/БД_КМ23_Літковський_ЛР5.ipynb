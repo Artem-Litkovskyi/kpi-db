{
 "cells": [
  {
   "cell_type": "code",
   "execution_count": null,
   "metadata": {},
   "outputs": [],
   "source": [
    "from neo4j import GraphDatabase\n",
    "\n",
    "\n",
    "# Connect to DB\n",
    "URI = 'neo4j://localhost:7687/'\n",
    "AUTH = ('neo4j', '123neo4j')\n",
    "\n",
    "driver = GraphDatabase.driver(URI, auth=AUTH)\n",
    "\n",
    "driver.verify_connectivity()\n",
    "\n",
    "\n",
    "# Remove old data\n",
    "driver.execute_query('MATCH (a) -[r] -> () DELETE a, r')\n",
    "driver.execute_query('MATCH (a) DELETE a')\n",
    "\n",
    "\n",
    "# Import nodes\n",
    "driver.execute_query(\n",
    "    '''\n",
    "    LOAD CSV WITH HEADERS FROM $url AS row\n",
    "    MERGE (i:Item {itemID: row.itemID, name: row.name, price: row.price});\n",
    "    ''',\n",
    "    url='https://raw.githubusercontent.com/Artem-Litkovskyi/kpi-db/master/lab5/import/items.csv'\n",
    ")\n",
    "\n",
    "driver.execute_query(\n",
    "    '''\n",
    "    LOAD CSV WITH HEADERS FROM $url AS row\n",
    "    MERGE (c:Customer {customerID: row.customerID, name: row.name});\n",
    "    ''',\n",
    "    url='https://raw.githubusercontent.com/Artem-Litkovskyi/kpi-db/master/lab5/import/customers.csv'\n",
    ")\n",
    "\n",
    "driver.execute_query(\n",
    "    '''\n",
    "    LOAD CSV WITH HEADERS FROM $url AS row\n",
    "    MERGE (o:Order {orderID: row.orderID});\n",
    "    ''',\n",
    "    url='https://raw.githubusercontent.com/Artem-Litkovskyi/kpi-db/master/lab5/import/bought.csv'\n",
    ")\n",
    "\n",
    "\n",
    "# Import arrows\n",
    "driver.execute_query(\n",
    "    '''\n",
    "    LOAD CSV WITH HEADERS FROM $url AS row\n",
    "    MATCH (c:Customer {customerID: row.customerID})\n",
    "    MATCH (o:Order {orderID: row.orderID})\n",
    "    CREATE (c)-[:BOUGHT]->(o);\n",
    "    ''',\n",
    "    url='https://raw.githubusercontent.com/Artem-Litkovskyi/kpi-db/master/lab5/import/bought.csv'\n",
    ")\n",
    "\n",
    "driver.execute_query(\n",
    "    '''\n",
    "    LOAD CSV WITH HEADERS FROM $url AS row\n",
    "    MATCH (o:Order {orderID: row.orderID})\n",
    "    MATCH (i:Item {itemID: row.itemID})\n",
    "    CREATE (o)-[:CONTAINS]->(i);\n",
    "    ''',\n",
    "    url='https://raw.githubusercontent.com/Artem-Litkovskyi/kpi-db/master/lab5/import/contains.csv'\n",
    ")"
   ]
  },
  {
   "cell_type": "markdown",
   "metadata": {},
   "source": [
    "# Товари (items)"
   ]
  }
 ],
 "metadata": {
  "kernelspec": {
   "display_name": "Python 3",
   "language": "python",
   "name": "python3"
  },
  "language_info": {
   "codemirror_mode": {
    "name": "ipython",
    "version": 3
   },
   "file_extension": ".py",
   "mimetype": "text/x-python",
   "name": "python",
   "nbconvert_exporter": "python",
   "pygments_lexer": "ipython3",
   "version": "3.13.2"
  }
 },
 "nbformat": 4,
 "nbformat_minor": 2
}
