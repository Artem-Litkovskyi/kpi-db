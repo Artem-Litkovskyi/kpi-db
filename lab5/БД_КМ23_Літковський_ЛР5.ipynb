{
 "cells": [
  {
   "cell_type": "code",
   "execution_count": null,
   "metadata": {},
   "outputs": [],
   "source": [
    "from neo4j import GraphDatabase\n",
    "from datetime import datetime"
   ]
  },
  {
   "cell_type": "code",
   "execution_count": 20,
   "metadata": {},
   "outputs": [
    {
     "data": {
      "text/plain": [
       "EagerResult(records=[], summary=<neo4j._work.summary.ResultSummary object at 0x10f9a3d40>, keys=['value'])"
      ]
     },
     "execution_count": 20,
     "metadata": {},
     "output_type": "execute_result"
    }
   ],
   "source": [
    "# Connect to DB\n",
    "URI = 'neo4j://localhost:7687/'\n",
    "AUTH = ('neo4j', '123neo4j')\n",
    "\n",
    "driver = GraphDatabase.driver(URI, auth=AUTH)\n",
    "\n",
    "driver.verify_connectivity()\n",
    "\n",
    "# Remove all data\n",
    "driver.execute_query('MATCH (a) -[r] -> () DELETE a, r')\n",
    "driver.execute_query('MATCH (a) DELETE a')\n",
    "\n",
    "driver.execute_query(\n",
    "    '''\n",
    "Call dbms.listConfig() YIELD name, value\n",
    "WHERE name='dbms.directories.neo4j_home'\n",
    "RETURN value\n",
    "    '''\n",
    ")\n",
    "\n",
    "# Import data from csv\n",
    "# driver.execute_query(\n",
    "#     '''\n",
    "#     LOAD CSV WITH HEADERS FROM 'file:///items.csv' AS row\n",
    "#     MERGE (p:Item {id: row.id, name: row.name, price: row.name});\n",
    "#     '''\n",
    "# )\n",
    "\n",
    "# driver.execute_query(\n",
    "#     '''\n",
    "#     LOAD CSV WITH HEADERS FROM 'file:///customers.csv' AS row\n",
    "#     MERGE (p:Customer {id: row.id, name: row.name});\n",
    "#     '''\n",
    "# )"
   ]
  },
  {
   "cell_type": "markdown",
   "metadata": {},
   "source": [
    "# Товари (items)"
   ]
  }
 ],
 "metadata": {
  "kernelspec": {
   "display_name": "Python 3",
   "language": "python",
   "name": "python3"
  },
  "language_info": {
   "codemirror_mode": {
    "name": "ipython",
    "version": 3
   },
   "file_extension": ".py",
   "mimetype": "text/x-python",
   "name": "python",
   "nbconvert_exporter": "python",
   "pygments_lexer": "ipython3",
   "version": "3.13.2"
  }
 },
 "nbformat": 4,
 "nbformat_minor": 2
}
