{
 "cells": [
  {
   "cell_type": "code",
   "execution_count": 441,
   "metadata": {},
   "outputs": [],
   "source": [
    "import pymongo\n",
    "from datetime import datetime\n",
    "\n",
    "\n",
    "# Output functions\n",
    "def print_items_short(items: list):\n",
    "    for i in items:\n",
    "        print(i)\n",
    "\n",
    "def print_items_pretty(items: list, very_pretty=False):\n",
    "    print(',\\n'.join(dict_to_str(i, very_pretty) for i in items))\n",
    "\n",
    "def dict_to_str(item, recursive=False):\n",
    "    strings = []\n",
    "\n",
    "    for key in item:\n",
    "        v = item[key]\n",
    "        if recursive:\n",
    "            if type(v) == dict:\n",
    "                v = dict_to_str(v, recursive=True).replace('\\n', '\\n\\t')\n",
    "            elif type(v) == list and len(v) > 0 and type(v[0]) == dict:\n",
    "                v = list_to_str(v, recursive=True).replace('\\n', '\\n\\t')\n",
    "        strings.append(f'\\t{key}: {v}')\n",
    "    \n",
    "    return '{\\n%s\\n}' % ',\\n'.join(strings)\n",
    "\n",
    "def list_to_str(item: list, recursive=False):\n",
    "    strings = []\n",
    "\n",
    "    for v in item:\n",
    "        if recursive:\n",
    "            if type(v) == dict:\n",
    "                v = dict_to_str(v, recursive=True).replace('\\n', '\\n\\t')\n",
    "            elif type(v) == list:\n",
    "                v = list_to_str(v, recursive=True).replace('\\n', '\\n\\t')\n",
    "        strings.append(f'\\t{v}')\n",
    "    \n",
    "    return '[\\n%s\\n]' % ',\\n'.join(strings)"
   ]
  },
  {
   "cell_type": "code",
   "execution_count": 442,
   "metadata": {},
   "outputs": [],
   "source": [
    "# Reset DB\n",
    "client = pymongo.MongoClient('mongodb://localhost:27017/')\n",
    "client.drop_database('lab4')\n",
    "db = client['lab4']"
   ]
  },
  {
   "cell_type": "markdown",
   "metadata": {},
   "source": [
    "# Товари (items)"
   ]
  },
  {
   "cell_type": "markdown",
   "metadata": {},
   "source": [
    "1) Створіть декілька товарів з різним набором властивостей Phone/TV/Smart Watch/..."
   ]
  },
  {
   "cell_type": "code",
   "execution_count": 443,
   "metadata": {},
   "outputs": [
    {
     "data": {
      "text/plain": [
       "InsertManyResult([ObjectId('67f55a80c9c92197da10881e'), ObjectId('67f55a80c9c92197da10881f'), ObjectId('67f55a80c9c92197da108820')], acknowledged=True)"
      ]
     },
     "execution_count": 443,
     "metadata": {},
     "output_type": "execute_result"
    }
   ],
   "source": [
    "items = db['items']\n",
    "\n",
    "new_phones = [\n",
    "    {\n",
    "        \"category\": \"Phone\",\n",
    "        \"model\": \"iPhone 16 Pro\",\n",
    "        \"producer\": \"Apple\",\n",
    "        \"price\": 61499,\n",
    "        \"display\": 6.3,\n",
    "        \"camera\": [48, 48, 12],\n",
    "        \"os\": \"iOS\"\n",
    "    },\n",
    "    {\n",
    "        \"category\": \"Phone\",\n",
    "        \"model\": \"iPhone 13\",\n",
    "        \"producer\": \"Apple\",\n",
    "        \"price\": 25499,\n",
    "        \"display\": 6.1,\n",
    "        \"camera\": [12, 12],\n",
    "        \"os\": \"iOS\"\n",
    "    },\n",
    "    {\n",
    "        \"category\": \"Phone\",\n",
    "        \"model\": \"Galaxy S25 Ultra\",\n",
    "        \"producer\": \"Samsung\",\n",
    "        \"price\": 67999,\n",
    "        \"display\": 6.9,\n",
    "        \"camera\": [200, 50, 50, 10],\n",
    "        \"os\": \"Android\"\n",
    "    },\n",
    "    {\n",
    "        \"category\": \"Phone\",\n",
    "        \"model\": \"Galaxy A16\",\n",
    "        \"producer\": \"Samsung\",\n",
    "        \"price\": 9499,\n",
    "        \"display\": 6.7,\n",
    "        \"camera\": [50, 5, 2],\n",
    "        \"os\": \"Android\"\n",
    "    }\n",
    "]\n",
    "\n",
    "new_smart_watches = [\n",
    "    {\n",
    "        \"category\": \"Smart Watch\",\n",
    "        \"model\": \"Watch SE\",\n",
    "        \"producer\": \"Apple\",\n",
    "        \"price\": 12599,\n",
    "        \"display\": 1.5,\n",
    "        \"wrist\": [130, 180],\n",
    "        \"os\": \"WatchOS\"\n",
    "    },\n",
    "    {\n",
    "        \"category\": \"Smart Watch\",\n",
    "        \"model\": \"Galaxy Watch Ultra\",\n",
    "        \"producer\": \"Samsung\",\n",
    "        \"price\": 28999,\n",
    "        \"display\": 1.5,\n",
    "        \"wrist\": [160, 210],\n",
    "        \"os\": \"Android\"\n",
    "    },\n",
    "    {\n",
    "        \"category\": \"Smart Watch\",\n",
    "        \"model\": \"Redmi Watch 5\",\n",
    "        \"producer\": \"Xiaomi\",\n",
    "        \"price\": 4499,\n",
    "        \"display\": 2.07,\n",
    "        \"wrist\": [135, 205],\n",
    "        \"os\": \"Android\"\n",
    "    }\n",
    "]\n",
    "\n",
    "new_tvs = [\n",
    "    {\n",
    "        \"category\": \"TV\",\n",
    "        \"model\": \"UE43T5300AUXUA\",\n",
    "        \"producer\": \"Samsung\",\n",
    "        \"price\": 15199,\n",
    "        \"display\": 43,\n",
    "        \"os\": \"Tizen\"\n",
    "    },\n",
    "    {\n",
    "        \"category\": \"TV\",\n",
    "        \"model\": \"43PUS8009/12\",\n",
    "        \"producer\": \"Philips\",\n",
    "        \"price\": 20999,\n",
    "        \"display\": 43,\n",
    "        \"os\": \"Titan OS\"\n",
    "    },\n",
    "    {\n",
    "        \"category\": \"TV\",\n",
    "        \"model\": \"50UR78006LK\",\n",
    "        \"producer\": \"LG\",\n",
    "        \"price\": 21499,\n",
    "        \"display\": 50,\n",
    "        \"os\": \"WebOS\"\n",
    "    }\n",
    "]\n",
    "\n",
    "items.insert_many(new_phones)\n",
    "items.insert_many(new_smart_watches)\n",
    "items.insert_many(new_tvs)"
   ]
  },
  {
   "cell_type": "markdown",
   "metadata": {},
   "source": [
    "2. Напишіть запит, який виводить усі товари (відображення у JSON)"
   ]
  },
  {
   "cell_type": "code",
   "execution_count": 444,
   "metadata": {},
   "outputs": [
    {
     "name": "stdout",
     "output_type": "stream",
     "text": [
      "{'_id': ObjectId('67f55a80c9c92197da108817'), 'category': 'Phone', 'model': 'iPhone 16 Pro', 'producer': 'Apple', 'price': 61499, 'display': 6.3, 'camera': [48, 48, 12], 'os': 'iOS'}\n",
      "{'_id': ObjectId('67f55a80c9c92197da108818'), 'category': 'Phone', 'model': 'iPhone 13', 'producer': 'Apple', 'price': 25499, 'display': 6.1, 'camera': [12, 12], 'os': 'iOS'}\n",
      "{'_id': ObjectId('67f55a80c9c92197da108819'), 'category': 'Phone', 'model': 'Galaxy S25 Ultra', 'producer': 'Samsung', 'price': 67999, 'display': 6.9, 'camera': [200, 50, 50, 10], 'os': 'Android'}\n",
      "{'_id': ObjectId('67f55a80c9c92197da10881a'), 'category': 'Phone', 'model': 'Galaxy A16', 'producer': 'Samsung', 'price': 9499, 'display': 6.7, 'camera': [50, 5, 2], 'os': 'Android'}\n",
      "{'_id': ObjectId('67f55a80c9c92197da10881b'), 'category': 'Smart Watch', 'model': 'Watch SE', 'producer': 'Apple', 'price': 12599, 'display': 1.5, 'wrist': [130, 180], 'os': 'WatchOS'}\n",
      "{'_id': ObjectId('67f55a80c9c92197da10881c'), 'category': 'Smart Watch', 'model': 'Galaxy Watch Ultra', 'producer': 'Samsung', 'price': 28999, 'display': 1.5, 'wrist': [160, 210], 'os': 'Android'}\n",
      "{'_id': ObjectId('67f55a80c9c92197da10881d'), 'category': 'Smart Watch', 'model': 'Redmi Watch 5', 'producer': 'Xiaomi', 'price': 4499, 'display': 2.07, 'wrist': [135, 205], 'os': 'Android'}\n",
      "{'_id': ObjectId('67f55a80c9c92197da10881e'), 'category': 'TV', 'model': 'UE43T5300AUXUA', 'producer': 'Samsung', 'price': 15199, 'display': 43, 'os': 'Tizen'}\n",
      "{'_id': ObjectId('67f55a80c9c92197da10881f'), 'category': 'TV', 'model': '43PUS8009/12', 'producer': 'Philips', 'price': 20999, 'display': 43, 'os': 'Titan OS'}\n",
      "{'_id': ObjectId('67f55a80c9c92197da108820'), 'category': 'TV', 'model': '50UR78006LK', 'producer': 'LG', 'price': 21499, 'display': 50, 'os': 'WebOS'}\n"
     ]
    }
   ],
   "source": [
    "print_items_short(items.find())"
   ]
  },
  {
   "cell_type": "markdown",
   "metadata": {},
   "source": [
    "3. Підрахуйте, скільки товарів у певної категорії"
   ]
  },
  {
   "cell_type": "code",
   "execution_count": 445,
   "metadata": {},
   "outputs": [
    {
     "data": {
      "text/plain": [
       "3"
      ]
     },
     "execution_count": 445,
     "metadata": {},
     "output_type": "execute_result"
    }
   ],
   "source": [
    "items.count_documents({'category': 'TV'})"
   ]
  },
  {
   "cell_type": "markdown",
   "metadata": {},
   "source": [
    "4. Підрахуйте, скільки є різних категорій товарів"
   ]
  },
  {
   "cell_type": "code",
   "execution_count": 446,
   "metadata": {},
   "outputs": [
    {
     "name": "stdout",
     "output_type": "stream",
     "text": [
      "{'categories_count': 3}\n"
     ]
    }
   ],
   "source": [
    "res = items.aggregate([\n",
    "    {'$group': {'_id': '$category'}},\n",
    "    {'$count': 'categories_count'}\n",
    "])\n",
    "\n",
    "print_items_short(res)"
   ]
  },
  {
   "cell_type": "markdown",
   "metadata": {},
   "source": [
    "5. Виведіть список всіх виробників товарів без повторів"
   ]
  },
  {
   "cell_type": "code",
   "execution_count": 447,
   "metadata": {},
   "outputs": [
    {
     "data": {
      "text/plain": [
       "['Apple', 'LG', 'Philips', 'Samsung', 'Xiaomi']"
      ]
     },
     "execution_count": 447,
     "metadata": {},
     "output_type": "execute_result"
    }
   ],
   "source": [
    "items.distinct('producer')"
   ]
  },
  {
   "cell_type": "markdown",
   "metadata": {},
   "source": [
    "6. Напишіть запити, які вибирають товари за різними критеріям і їх сукупності: \n",
    "- категорія та ціна (в проміжку) - конструкція $and, \n",
    "- модель чи одна чи інша - конструкція $or,\n",
    "- виробники з переліку - конструкція $in"
   ]
  },
  {
   "cell_type": "code",
   "execution_count": 448,
   "metadata": {},
   "outputs": [
    {
     "name": "stdout",
     "output_type": "stream",
     "text": [
      "{\n",
      "\t_id: 67f55a80c9c92197da108817,\n",
      "\tcategory: Phone,\n",
      "\tmodel: iPhone 16 Pro,\n",
      "\tproducer: Apple,\n",
      "\tprice: 61499,\n",
      "\tdisplay: 6.3,\n",
      "\tcamera: [48, 48, 12],\n",
      "\tos: iOS\n",
      "},\n",
      "{\n",
      "\t_id: 67f55a80c9c92197da108818,\n",
      "\tcategory: Phone,\n",
      "\tmodel: iPhone 13,\n",
      "\tproducer: Apple,\n",
      "\tprice: 25499,\n",
      "\tdisplay: 6.1,\n",
      "\tcamera: [12, 12],\n",
      "\tos: iOS\n",
      "}\n"
     ]
    }
   ],
   "source": [
    "res = items.find({\n",
    "    '$and': [\n",
    "        {'category': 'Phone'},\n",
    "        {'price': {'$gt': 20000, '$lt': 62000}}\n",
    "    ]\n",
    "})\n",
    "\n",
    "print_items_pretty(res)"
   ]
  },
  {
   "cell_type": "code",
   "execution_count": 449,
   "metadata": {},
   "outputs": [
    {
     "name": "stdout",
     "output_type": "stream",
     "text": [
      "{\n",
      "\t_id: 67f55a80c9c92197da10881c,\n",
      "\tcategory: Smart Watch,\n",
      "\tmodel: Galaxy Watch Ultra,\n",
      "\tproducer: Samsung,\n",
      "\tprice: 28999,\n",
      "\tdisplay: 1.5,\n",
      "\twrist: [160, 210],\n",
      "\tos: Android\n",
      "},\n",
      "{\n",
      "\t_id: 67f55a80c9c92197da10881d,\n",
      "\tcategory: Smart Watch,\n",
      "\tmodel: Redmi Watch 5,\n",
      "\tproducer: Xiaomi,\n",
      "\tprice: 4499,\n",
      "\tdisplay: 2.07,\n",
      "\twrist: [135, 205],\n",
      "\tos: Android\n",
      "}\n"
     ]
    }
   ],
   "source": [
    "res = items.find({\n",
    "    '$or': [\n",
    "        {'model': 'Galaxy Watch Ultra'},\n",
    "        {'model': 'Redmi Watch 5'}\n",
    "    ]\n",
    "})\n",
    "\n",
    "print_items_pretty(res)"
   ]
  },
  {
   "cell_type": "code",
   "execution_count": 450,
   "metadata": {},
   "outputs": [
    {
     "name": "stdout",
     "output_type": "stream",
     "text": [
      "{\n",
      "\t_id: 67f55a80c9c92197da10881f,\n",
      "\tcategory: TV,\n",
      "\tmodel: 43PUS8009/12,\n",
      "\tproducer: Philips,\n",
      "\tprice: 20999,\n",
      "\tdisplay: 43,\n",
      "\tos: Titan OS\n",
      "},\n",
      "{\n",
      "\t_id: 67f55a80c9c92197da108820,\n",
      "\tcategory: TV,\n",
      "\tmodel: 50UR78006LK,\n",
      "\tproducer: LG,\n",
      "\tprice: 21499,\n",
      "\tdisplay: 50,\n",
      "\tos: WebOS\n",
      "}\n"
     ]
    }
   ],
   "source": [
    "res = items.find({'producer': {'$in': ['Philips', 'LG']}})\n",
    "\n",
    "print_items_pretty(res)"
   ]
  },
  {
   "cell_type": "markdown",
   "metadata": {},
   "source": [
    "7. Оновіть певні товари, змінивши існуючі значення і додайте нові властивості (характеристики) усім товарам за певним критерієм"
   ]
  },
  {
   "cell_type": "code",
   "execution_count": 451,
   "metadata": {},
   "outputs": [
    {
     "name": "stdout",
     "output_type": "stream",
     "text": [
      "before:\n",
      "{'model': 'Watch SE', 'display': 1.5}\n",
      "{'model': 'Galaxy Watch Ultra', 'display': 1.5}\n",
      "{'model': 'Redmi Watch 5', 'display': 2.07}\n",
      "\n",
      "after:\n",
      "{'model': 'Watch SE', 'display': 40}\n",
      "{'model': 'Galaxy Watch Ultra', 'display': 40}\n",
      "{'model': 'Redmi Watch 5', 'display': 50}\n"
     ]
    }
   ],
   "source": [
    "# Convert inches to mm\n",
    "\n",
    "print('before:')\n",
    "print_items_short(\n",
    "    items.find({'category': 'Smart Watch'}, {'_id': 0, 'model': 1, 'display': 1})\n",
    ")\n",
    "\n",
    "items.update_many(\n",
    "    {'category': 'Smart Watch'},\n",
    "    [{\n",
    "        '$set': {\n",
    "            'display': {\n",
    "                '$cond': {\n",
    "                    'if': {'$eq': ['$display', 1.5]},\n",
    "                    'then': 40,\n",
    "                    'else': 50\n",
    "                }\n",
    "            }\n",
    "        }\n",
    "    }]\n",
    ")\n",
    "\n",
    "print('\\nafter:')\n",
    "print_items_short(\n",
    "    items.find({'category': 'Smart Watch'}, {'_id': 0, 'model': 1, 'display': 1})\n",
    ")"
   ]
  },
  {
   "cell_type": "code",
   "execution_count": 452,
   "metadata": {},
   "outputs": [
    {
     "name": "stdout",
     "output_type": "stream",
     "text": [
      "before:\n",
      "{'model': 'UE43T5300AUXUA'}\n",
      "{'model': '43PUS8009/12'}\n",
      "{'model': '50UR78006LK'}\n",
      "\n",
      "after:\n",
      "{'model': 'UE43T5300AUXUA', 'refresh_rate': 60}\n",
      "{'model': '43PUS8009/12', 'refresh_rate': 60}\n",
      "{'model': '50UR78006LK', 'refresh_rate': 60}\n"
     ]
    }
   ],
   "source": [
    "# Add a refresh rate field\n",
    "\n",
    "print('before:')\n",
    "print_items_short(\n",
    "    items.find({'category': 'TV'}, {'_id': 0, 'model': 1, 'refresh_rate': 1})\n",
    ")\n",
    "\n",
    "items.update_many({'category': 'TV'}, {'$set': {'refresh_rate': 60}})\n",
    "\n",
    "print('\\nafter:')\n",
    "print_items_short(\n",
    "    items.find({'category': 'TV'}, {'_id': 0, 'model': 1, 'refresh_rate': 1})\n",
    ")"
   ]
  },
  {
   "cell_type": "markdown",
   "metadata": {},
   "source": [
    "8. Знайдіть товари у яких є (присутнє поле) певні властивості"
   ]
  },
  {
   "cell_type": "code",
   "execution_count": 453,
   "metadata": {},
   "outputs": [
    {
     "name": "stdout",
     "output_type": "stream",
     "text": [
      "{'_id': ObjectId('67f55a80c9c92197da108817'), 'category': 'Phone', 'model': 'iPhone 16 Pro', 'producer': 'Apple', 'price': 61499, 'display': 6.3, 'camera': [48, 48, 12], 'os': 'iOS'}\n",
      "{'_id': ObjectId('67f55a80c9c92197da108818'), 'category': 'Phone', 'model': 'iPhone 13', 'producer': 'Apple', 'price': 25499, 'display': 6.1, 'camera': [12, 12], 'os': 'iOS'}\n",
      "{'_id': ObjectId('67f55a80c9c92197da108819'), 'category': 'Phone', 'model': 'Galaxy S25 Ultra', 'producer': 'Samsung', 'price': 67999, 'display': 6.9, 'camera': [200, 50, 50, 10], 'os': 'Android'}\n",
      "{'_id': ObjectId('67f55a80c9c92197da10881a'), 'category': 'Phone', 'model': 'Galaxy A16', 'producer': 'Samsung', 'price': 9499, 'display': 6.7, 'camera': [50, 5, 2], 'os': 'Android'}\n"
     ]
    }
   ],
   "source": [
    "res = items.find({'camera': {'$exists': True}})\n",
    "\n",
    "print_items_short(res)"
   ]
  },
  {
   "cell_type": "markdown",
   "metadata": {},
   "source": [
    "9. Для знайдених товарів збільшіть їх вартість на певну суму"
   ]
  },
  {
   "cell_type": "code",
   "execution_count": 454,
   "metadata": {},
   "outputs": [
    {
     "name": "stdout",
     "output_type": "stream",
     "text": [
      "before:\n",
      "{'model': 'iPhone 16 Pro', 'price': 61499}\n",
      "{'model': 'iPhone 13', 'price': 25499}\n",
      "{'model': 'Galaxy S25 Ultra', 'price': 67999}\n",
      "{'model': 'Galaxy A16', 'price': 9499}\n",
      "\n",
      "after:\n",
      "{'model': 'iPhone 16 Pro', 'price': 71499}\n",
      "{'model': 'iPhone 13', 'price': 35499}\n",
      "{'model': 'Galaxy S25 Ultra', 'price': 77999}\n",
      "{'model': 'Galaxy A16', 'price': 19499}\n"
     ]
    }
   ],
   "source": [
    "print('before:')\n",
    "print_items_short(\n",
    "    items.find({'camera': {'$exists': True}}, {'_id': 0, 'model': 1, 'price': 1})\n",
    ")\n",
    "\n",
    "items.update_many(\n",
    "    {'camera': {'$exists': True}},\n",
    "    {'$inc': {'price': 10000}}\n",
    ")\n",
    "\n",
    "print('\\nafter:')\n",
    "print_items_short(\n",
    "    items.find({'camera': {'$exists': True}}, {'_id': 0, 'model': 1, 'price': 1})\n",
    ")"
   ]
  },
  {
   "cell_type": "markdown",
   "metadata": {},
   "source": [
    "# Замовлення (orders)"
   ]
  },
  {
   "cell_type": "markdown",
   "metadata": {},
   "source": [
    "1. Створіть кілька замовлень з різними наборами товарів, але так щоб один з товарів був у декількох замовленнях"
   ]
  },
  {
   "cell_type": "code",
   "execution_count": 455,
   "metadata": {},
   "outputs": [
    {
     "data": {
      "text/plain": [
       "InsertManyResult([ObjectId('67f55a80c9c92197da108821'), ObjectId('67f55a80c9c92197da108822'), ObjectId('67f55a80c9c92197da108823'), ObjectId('67f55a80c9c92197da108824')], acknowledged=True)"
      ]
     },
     "execution_count": 455,
     "metadata": {},
     "output_type": "execute_result"
    }
   ],
   "source": [
    "orders = db['orders']\n",
    "\n",
    "def id_by_model(model):\n",
    "    return items.find_one({'model': model})['_id']\n",
    "\n",
    "def price_by_model(model):\n",
    "    return items.find_one({'model': model})['price']\n",
    "\n",
    "new_orders = [\n",
    "    {\n",
    "        \"date\" : datetime(2015, 4, 14),\n",
    "        \"total_sum\" : sum(price_by_model(m) for m in ['Watch SE']),\n",
    "        \"customer\" : {\n",
    "            \"name\" : \"Andrii\",\n",
    "            \"surname\" : \"Rodinov\",\n",
    "            \"phones\" : [\"9876543\", \"1234567\"],\n",
    "            \"address\" : \"PTI, Peremohy 37, Kyiv, UA\"\n",
    "        },\n",
    "        \"payment\" : {\n",
    "            \"card_owner\" : \"Andrii Rodinov\",\n",
    "            \"cardId\" : 12345678\n",
    "        },\n",
    "        \"items_id\" : [id_by_model(m) for m in ['Watch SE']]\n",
    "    },\n",
    "    {\n",
    "        \"date\" : datetime(2016, 2, 2),\n",
    "        \"total_sum\" : sum(price_by_model(m) for m in ['iPhone 13']),\n",
    "        \"customer\" : {\n",
    "            \"name\" : \"Andrii\",\n",
    "            \"surname\" : \"Rodinov\",\n",
    "            \"phones\" : [\"9876543\", \"1234567\"],\n",
    "            \"address\" : \"PTI, Peremohy 37, Kyiv, UA\"\n",
    "        },\n",
    "        \"payment\" : {\n",
    "            \"card_owner\" : \"Andrii Rodinov\",\n",
    "            \"cardId\" : 12345678\n",
    "        },\n",
    "        \"items_id\" : [id_by_model(m) for m in ['iPhone 13']]\n",
    "    },\n",
    "    {\n",
    "        \"date\" : datetime(2016, 3, 3),\n",
    "        \"total_sum\" : sum(price_by_model(m) for m in ['Galaxy A16']),\n",
    "        \"customer\" : {\n",
    "            \"name\" : \"Artem\",\n",
    "            \"surname\" : \"Litkovskyi\",\n",
    "            \"phones\" : [\"2345678\"],\n",
    "            \"address\" : \"Vozdvyzhens'ka 55, Kyiv, UA\"\n",
    "        },\n",
    "        \"payment\" : {\n",
    "            \"card_owner\" : \"Artem Litkovskyi\",\n",
    "            \"cardId\" : 23456789\n",
    "        },\n",
    "        \"items_id\" : [id_by_model(m) for m in ['Galaxy A16']]\n",
    "    },\n",
    "    {\n",
    "        \"date\" : datetime(2025, 4, 8),\n",
    "        \"total_sum\" : sum(price_by_model(m) for m in ['Watch SE', 'UE43T5300AUXUA']),\n",
    "        \"customer\" : {\n",
    "            \"name\" : \"Artem\",\n",
    "            \"surname\" : \"Litkovskyi\",\n",
    "            \"phones\" : [\"2345678\"],\n",
    "            \"address\" : \"Vozdvyzhens'ka 55, Kyiv, UA\"\n",
    "        },\n",
    "        \"payment\" : {\n",
    "            \"card_owner\" : \"Artem Litkovskyi\",\n",
    "            \"cardId\" : 23456789\n",
    "        },\n",
    "        \"items_id\" : [id_by_model(m) for m in ['Watch SE', 'UE43T5300AUXUA']]\n",
    "    }\n",
    "]\n",
    "\n",
    "orders.insert_many(new_orders)"
   ]
  },
  {
   "cell_type": "markdown",
   "metadata": {},
   "source": [
    "2. Виведіть всі замовлення"
   ]
  },
  {
   "cell_type": "code",
   "execution_count": 456,
   "metadata": {},
   "outputs": [
    {
     "name": "stdout",
     "output_type": "stream",
     "text": [
      "{'_id': ObjectId('67f55a80c9c92197da108821'), 'date': datetime.datetime(2015, 4, 14, 0, 0), 'total_sum': 12599, 'customer': {'name': 'Andrii', 'surname': 'Rodinov', 'phones': ['9876543', '1234567'], 'address': 'PTI, Peremohy 37, Kyiv, UA'}, 'payment': {'card_owner': 'Andrii Rodinov', 'cardId': 12345678}, 'items_id': [ObjectId('67f55a80c9c92197da10881b')]}\n",
      "{'_id': ObjectId('67f55a80c9c92197da108822'), 'date': datetime.datetime(2016, 2, 2, 0, 0), 'total_sum': 35499, 'customer': {'name': 'Andrii', 'surname': 'Rodinov', 'phones': ['9876543', '1234567'], 'address': 'PTI, Peremohy 37, Kyiv, UA'}, 'payment': {'card_owner': 'Andrii Rodinov', 'cardId': 12345678}, 'items_id': [ObjectId('67f55a80c9c92197da108818')]}\n",
      "{'_id': ObjectId('67f55a80c9c92197da108823'), 'date': datetime.datetime(2016, 3, 3, 0, 0), 'total_sum': 19499, 'customer': {'name': 'Artem', 'surname': 'Litkovskyi', 'phones': ['2345678'], 'address': \"Vozdvyzhens'ka 55, Kyiv, UA\"}, 'payment': {'card_owner': 'Artem Litkovskyi', 'cardId': 23456789}, 'items_id': [ObjectId('67f55a80c9c92197da10881a')]}\n",
      "{'_id': ObjectId('67f55a80c9c92197da108824'), 'date': datetime.datetime(2025, 4, 8, 0, 0), 'total_sum': 27798, 'customer': {'name': 'Artem', 'surname': 'Litkovskyi', 'phones': ['2345678'], 'address': \"Vozdvyzhens'ka 55, Kyiv, UA\"}, 'payment': {'card_owner': 'Artem Litkovskyi', 'cardId': 23456789}, 'items_id': [ObjectId('67f55a80c9c92197da10881b'), ObjectId('67f55a80c9c92197da10881e')]}\n"
     ]
    }
   ],
   "source": [
    "print_items_short(orders.find())"
   ]
  },
  {
   "cell_type": "markdown",
   "metadata": {},
   "source": [
    "3. Виведіть замовлення з вартістю більше певного значення"
   ]
  },
  {
   "cell_type": "code",
   "execution_count": 457,
   "metadata": {},
   "outputs": [
    {
     "name": "stdout",
     "output_type": "stream",
     "text": [
      "{\n",
      "\t_id: 67f55a80c9c92197da108822,\n",
      "\tdate: 2016-02-02 00:00:00,\n",
      "\ttotal_sum: 35499,\n",
      "\tcustomer: {'name': 'Andrii', 'surname': 'Rodinov', 'phones': ['9876543', '1234567'], 'address': 'PTI, Peremohy 37, Kyiv, UA'},\n",
      "\tpayment: {'card_owner': 'Andrii Rodinov', 'cardId': 12345678},\n",
      "\titems_id: [ObjectId('67f55a80c9c92197da108818')]\n",
      "}\n"
     ]
    }
   ],
   "source": [
    "res = orders.find({'total_sum': {'$gt': 30000}})\n",
    "\n",
    "print_items_pretty(res)"
   ]
  },
  {
   "cell_type": "markdown",
   "metadata": {},
   "source": [
    "4. Знайдіть замовлення зроблені одним замовником"
   ]
  },
  {
   "cell_type": "code",
   "execution_count": 458,
   "metadata": {},
   "outputs": [
    {
     "name": "stdout",
     "output_type": "stream",
     "text": [
      "{\n",
      "\t_id: 67f55a80c9c92197da108821,\n",
      "\tdate: 2015-04-14 00:00:00,\n",
      "\ttotal_sum: 12599,\n",
      "\tcustomer: {'name': 'Andrii', 'surname': 'Rodinov', 'phones': ['9876543', '1234567'], 'address': 'PTI, Peremohy 37, Kyiv, UA'},\n",
      "\tpayment: {'card_owner': 'Andrii Rodinov', 'cardId': 12345678},\n",
      "\titems_id: [ObjectId('67f55a80c9c92197da10881b')]\n",
      "},\n",
      "{\n",
      "\t_id: 67f55a80c9c92197da108822,\n",
      "\tdate: 2016-02-02 00:00:00,\n",
      "\ttotal_sum: 35499,\n",
      "\tcustomer: {'name': 'Andrii', 'surname': 'Rodinov', 'phones': ['9876543', '1234567'], 'address': 'PTI, Peremohy 37, Kyiv, UA'},\n",
      "\tpayment: {'card_owner': 'Andrii Rodinov', 'cardId': 12345678},\n",
      "\titems_id: [ObjectId('67f55a80c9c92197da108818')]\n",
      "}\n"
     ]
    }
   ],
   "source": [
    "res = orders.find({'customer.name': 'Andrii'})\n",
    "\n",
    "print_items_pretty(res)"
   ]
  },
  {
   "cell_type": "markdown",
   "metadata": {},
   "source": [
    "5. Знайдіть всі замовлення з певним товаром (товарами) (шукати можна по ObjectId)"
   ]
  },
  {
   "cell_type": "code",
   "execution_count": 459,
   "metadata": {},
   "outputs": [
    {
     "name": "stdout",
     "output_type": "stream",
     "text": [
      "{\n",
      "\t_id: 67f55a80c9c92197da108821,\n",
      "\tdate: 2015-04-14 00:00:00,\n",
      "\ttotal_sum: 12599,\n",
      "\tcustomer: {'name': 'Andrii', 'surname': 'Rodinov', 'phones': ['9876543', '1234567'], 'address': 'PTI, Peremohy 37, Kyiv, UA'},\n",
      "\tpayment: {'card_owner': 'Andrii Rodinov', 'cardId': 12345678},\n",
      "\titems_id: [ObjectId('67f55a80c9c92197da10881b')]\n",
      "},\n",
      "{\n",
      "\t_id: 67f55a80c9c92197da108824,\n",
      "\tdate: 2025-04-08 00:00:00,\n",
      "\ttotal_sum: 27798,\n",
      "\tcustomer: {'name': 'Artem', 'surname': 'Litkovskyi', 'phones': ['2345678'], 'address': \"Vozdvyzhens'ka 55, Kyiv, UA\"},\n",
      "\tpayment: {'card_owner': 'Artem Litkovskyi', 'cardId': 23456789},\n",
      "\titems_id: [ObjectId('67f55a80c9c92197da10881b'), ObjectId('67f55a80c9c92197da10881e')]\n",
      "}\n"
     ]
    }
   ],
   "source": [
    "res = orders.find({'items_id': id_by_model('Watch SE')})\n",
    "\n",
    "print_items_pretty(res)"
   ]
  },
  {
   "cell_type": "markdown",
   "metadata": {},
   "source": [
    "6. Додайте в усі замовлення з певним товаром ще один товар і збільшіть існуючу вартість замовлення на деяке значення Х"
   ]
  },
  {
   "cell_type": "code",
   "execution_count": 460,
   "metadata": {},
   "outputs": [
    {
     "name": "stdout",
     "output_type": "stream",
     "text": [
      "before:\n",
      "{'total_sum': 12599, 'items_id': [ObjectId('67f55a80c9c92197da10881b')]}\n",
      "{'total_sum': 27798, 'items_id': [ObjectId('67f55a80c9c92197da10881b'), ObjectId('67f55a80c9c92197da10881e')]}\n",
      "\n",
      "after:\n",
      "{'total_sum': 34098, 'items_id': [ObjectId('67f55a80c9c92197da10881b'), ObjectId('67f55a80c9c92197da108820')]}\n",
      "{'total_sum': 49297, 'items_id': [ObjectId('67f55a80c9c92197da10881b'), ObjectId('67f55a80c9c92197da10881e'), ObjectId('67f55a80c9c92197da108820')]}\n"
     ]
    }
   ],
   "source": [
    "print('before:')\n",
    "print_items_short(\n",
    "    orders.find({'items_id': id_by_model('Watch SE')}, {'_id': 0, 'total_sum': 1, 'items_id': 1})\n",
    ")\n",
    "\n",
    "orders.update_many(\n",
    "    {'items_id': id_by_model('Watch SE')},\n",
    "    {\n",
    "        '$push': {'items_id': id_by_model('50UR78006LK')},\n",
    "        '$inc': {'total_sum': price_by_model('50UR78006LK')}\n",
    "    }\n",
    ")\n",
    "\n",
    "print('\\nafter:')\n",
    "print_items_short(\n",
    "    orders.find({'items_id': id_by_model('Watch SE')}, {'_id': 0, 'total_sum': 1, 'items_id': 1})\n",
    ")"
   ]
  },
  {
   "cell_type": "markdown",
   "metadata": {},
   "source": [
    "7. Виведіть кількість товарів в певному замовленні"
   ]
  },
  {
   "cell_type": "code",
   "execution_count": 461,
   "metadata": {},
   "outputs": [
    {
     "name": "stdout",
     "output_type": "stream",
     "text": [
      "2\n"
     ]
    }
   ],
   "source": [
    "print(len(orders.find_one()['items_id']))"
   ]
  },
  {
   "cell_type": "markdown",
   "metadata": {},
   "source": [
    "8. Виведіть тільки інформацію про кастомера і номери кредитної карт, для замовлень вартість яких перевищує певну суму"
   ]
  },
  {
   "cell_type": "code",
   "execution_count": 462,
   "metadata": {},
   "outputs": [
    {
     "name": "stdout",
     "output_type": "stream",
     "text": [
      "{\n",
      "\tcustomer: {'name': 'Andrii', 'surname': 'Rodinov', 'phones': ['9876543', '1234567'], 'address': 'PTI, Peremohy 37, Kyiv, UA'},\n",
      "\tpayment: {'cardId': 12345678}\n",
      "},\n",
      "{\n",
      "\tcustomer: {'name': 'Andrii', 'surname': 'Rodinov', 'phones': ['9876543', '1234567'], 'address': 'PTI, Peremohy 37, Kyiv, UA'},\n",
      "\tpayment: {'cardId': 12345678}\n",
      "},\n",
      "{\n",
      "\tcustomer: {'name': 'Artem', 'surname': 'Litkovskyi', 'phones': ['2345678'], 'address': \"Vozdvyzhens'ka 55, Kyiv, UA\"},\n",
      "\tpayment: {'cardId': 23456789}\n",
      "}\n"
     ]
    }
   ],
   "source": [
    "res = orders.find({'total_sum': {'$gt': 30000}}, {'_id': 0, 'customer': 1, 'payment.cardId': 1})\n",
    "\n",
    "print_items_pretty(res)"
   ]
  },
  {
   "cell_type": "markdown",
   "metadata": {},
   "source": [
    "9. Видаліть товар з замовлень, зроблених за певний період дат"
   ]
  },
  {
   "cell_type": "code",
   "execution_count": 463,
   "metadata": {},
   "outputs": [
    {
     "name": "stdout",
     "output_type": "stream",
     "text": [
      "before:\n",
      "{'date': datetime.datetime(2016, 2, 2, 0, 0), 'items_id': [ObjectId('67f55a80c9c92197da108818')]}\n",
      "{'date': datetime.datetime(2016, 3, 3, 0, 0), 'items_id': [ObjectId('67f55a80c9c92197da10881a')]}\n",
      "\n",
      "after:\n",
      "{'date': datetime.datetime(2016, 2, 2, 0, 0), 'items_id': []}\n",
      "{'date': datetime.datetime(2016, 3, 3, 0, 0), 'items_id': [ObjectId('67f55a80c9c92197da10881a')]}\n"
     ]
    }
   ],
   "source": [
    "print('before:')\n",
    "print_items_short(\n",
    "    orders.find(\n",
    "        {'date': {'$gt': datetime(2016, 1, 1), '$lt': datetime(2016, 12, 31)}},\n",
    "        {'_id': 0, 'date': 1, 'items_id': 1}\n",
    "    )\n",
    ")\n",
    "\n",
    "orders.update_many(\n",
    "    {'date': {'$gt': datetime(2016, 1, 1), '$lt': datetime(2016, 12, 31)}},\n",
    "    {'$pull': {'items_id': id_by_model('iPhone 13')}}\n",
    ")\n",
    "\n",
    "print('\\nafter:')\n",
    "print_items_short(\n",
    "    orders.find(\n",
    "        {'date': {'$gt': datetime(2016, 1, 1), '$lt': datetime(2016, 12, 31)}},\n",
    "        {'_id': 0, 'date': 1, 'items_id': 1}\n",
    "    )\n",
    ")"
   ]
  },
  {
   "cell_type": "markdown",
   "metadata": {},
   "source": [
    "10. Перейменуйте у всіх замовлення ім'я (прізвище) замовника"
   ]
  },
  {
   "cell_type": "code",
   "execution_count": 464,
   "metadata": {},
   "outputs": [
    {
     "name": "stdout",
     "output_type": "stream",
     "text": [
      "{'customer': {'name': 'Andrii', 'surname': 'Brooklyn', 'phones': ['9876543', '1234567'], 'address': 'PTI, Peremohy 37, Kyiv, UA'}}\n",
      "{'customer': {'name': 'Andrii', 'surname': 'Brooklyn', 'phones': ['9876543', '1234567'], 'address': 'PTI, Peremohy 37, Kyiv, UA'}}\n",
      "{'customer': {'name': 'Artem', 'surname': 'Brooklyn', 'phones': ['2345678'], 'address': \"Vozdvyzhens'ka 55, Kyiv, UA\"}}\n",
      "{'customer': {'name': 'Artem', 'surname': 'Brooklyn', 'phones': ['2345678'], 'address': \"Vozdvyzhens'ka 55, Kyiv, UA\"}}\n"
     ]
    }
   ],
   "source": [
    "orders.update_many(\n",
    "    {},\n",
    "    {'$set': {'customer.surname': 'Brooklyn'}}\n",
    ")\n",
    "\n",
    "print_items_short(\n",
    "    orders.find(\n",
    "        {},\n",
    "        {'_id': 0, 'customer': 1}\n",
    "    )\n",
    ")"
   ]
  },
  {
   "cell_type": "markdown",
   "metadata": {},
   "source": [
    "11. Знайдіть замовлення зроблені одним замовником, і виведіть тільки інформацію про кастомера та товари у замовлені підставивши замість ObjectId(\"***\") назви товарів та їх вартість (аналог join-а між таблицями orders та items)."
   ]
  },
  {
   "cell_type": "code",
   "execution_count": 465,
   "metadata": {},
   "outputs": [
    {
     "name": "stdout",
     "output_type": "stream",
     "text": [
      "{\n",
      "\tcustomer: {\n",
      "\t\tname: Artem,\n",
      "\t\tsurname: Brooklyn,\n",
      "\t\tphones: ['2345678'],\n",
      "\t\taddress: Vozdvyzhens'ka 55, Kyiv, UA\n",
      "\t},\n",
      "\titems_obj: [\n",
      "\t\t{\n",
      "\t\t\t_id: 67f55a80c9c92197da10881a,\n",
      "\t\t\tcategory: Phone,\n",
      "\t\t\tmodel: Galaxy A16,\n",
      "\t\t\tproducer: Samsung,\n",
      "\t\t\tprice: 19499,\n",
      "\t\t\tdisplay: 6.7,\n",
      "\t\t\tcamera: [50, 5, 2],\n",
      "\t\t\tos: Android\n",
      "\t\t}\n",
      "\t]\n",
      "},\n",
      "{\n",
      "\tcustomer: {\n",
      "\t\tname: Artem,\n",
      "\t\tsurname: Brooklyn,\n",
      "\t\tphones: ['2345678'],\n",
      "\t\taddress: Vozdvyzhens'ka 55, Kyiv, UA\n",
      "\t},\n",
      "\titems_obj: [\n",
      "\t\t{\n",
      "\t\t\t_id: 67f55a80c9c92197da108820,\n",
      "\t\t\tcategory: TV,\n",
      "\t\t\tmodel: 50UR78006LK,\n",
      "\t\t\tproducer: LG,\n",
      "\t\t\tprice: 21499,\n",
      "\t\t\tdisplay: 50,\n",
      "\t\t\tos: WebOS,\n",
      "\t\t\trefresh_rate: 60\n",
      "\t\t},\n",
      "\t\t{\n",
      "\t\t\t_id: 67f55a80c9c92197da10881e,\n",
      "\t\t\tcategory: TV,\n",
      "\t\t\tmodel: UE43T5300AUXUA,\n",
      "\t\t\tproducer: Samsung,\n",
      "\t\t\tprice: 15199,\n",
      "\t\t\tdisplay: 43,\n",
      "\t\t\tos: Tizen,\n",
      "\t\t\trefresh_rate: 60\n",
      "\t\t},\n",
      "\t\t{\n",
      "\t\t\t_id: 67f55a80c9c92197da10881b,\n",
      "\t\t\tcategory: Smart Watch,\n",
      "\t\t\tmodel: Watch SE,\n",
      "\t\t\tproducer: Apple,\n",
      "\t\t\tprice: 12599,\n",
      "\t\t\tdisplay: 40,\n",
      "\t\t\twrist: [130, 180],\n",
      "\t\t\tos: WatchOS\n",
      "\t\t}\n",
      "\t]\n",
      "}\n"
     ]
    }
   ],
   "source": [
    "res = orders.aggregate([\n",
    "    {\n",
    "        '$match': {'customer.name': 'Artem'}\n",
    "    },\n",
    "    {\n",
    "        '$lookup': {\n",
    "            'from': 'items',\n",
    "            'localField': 'items_id',\n",
    "            'foreignField': '_id',\n",
    "            'as': 'items_obj'\n",
    "        }\n",
    "    },\n",
    "    {\n",
    "        '$project': {'_id': 0, 'customer': 1, 'items_obj': 1}\n",
    "    }\n",
    "])\n",
    "\n",
    "print_items_pretty(res, very_pretty=True)"
   ]
  },
  {
   "cell_type": "markdown",
   "metadata": {},
   "source": [
    "# Сapped collection"
   ]
  },
  {
   "cell_type": "markdown",
   "metadata": {},
   "source": [
    "Створіть Сapped collection яка б містила 5 останніх відгуків на наш інтернет-магазин. Структуру запису визначити самостійно."
   ]
  },
  {
   "cell_type": "code",
   "execution_count": 466,
   "metadata": {},
   "outputs": [
    {
     "name": "stdout",
     "output_type": "stream",
     "text": [
      "{'_id': ObjectId('67f55a80c9c92197da108825'), 'date': datetime.datetime(2025, 1, 1, 0, 0), 'author': 'Artem', 'rating': 5, 'text': 'I highly recommend this business.'}\n",
      "{'_id': ObjectId('67f55a80c9c92197da108826'), 'date': datetime.datetime(2025, 1, 3, 0, 0), 'author': 'Andrii', 'rating': 5, 'text': 'I was completely impressed with their professionalism and customer service.'}\n",
      "{'_id': ObjectId('67f55a80c9c92197da108827'), 'date': datetime.datetime(2025, 2, 12, 0, 0), 'author': 'Giselle', 'rating': 4, 'text': 'The ambiance here is always inviting and comfortable.'}\n",
      "{'_id': ObjectId('67f55a80c9c92197da108828'), 'date': datetime.datetime(2025, 3, 25, 0, 0), 'author': 'Elise', 'rating': 4, 'text': 'Efficiency and punctuality are hallmarks of their service.'}\n",
      "{'_id': ObjectId('67f55a80c9c92197da108829'), 'date': datetime.datetime(2025, 4, 1, 0, 0), 'author': 'Grigory', 'rating': 4, 'text': 'They are reliable, honest and operate with integrity.'}\n"
     ]
    }
   ],
   "source": [
    "db.create_collection('recent_reviews', capped=True, size=800, max=5)\n",
    "\n",
    "recent_reviews = db['recent_reviews']\n",
    "\n",
    "new_reviews = [\n",
    "    {\n",
    "        'date': datetime(2025, 1, 1),\n",
    "        'author': 'Artem',\n",
    "        'rating': 5,\n",
    "        'text': 'I highly recommend this business.' \n",
    "    },\n",
    "    {\n",
    "        'date': datetime(2025, 1, 3),\n",
    "        'author': 'Andrii',\n",
    "        'rating': 5,\n",
    "        'text': 'I was completely impressed with their professionalism and customer service.' \n",
    "    },\n",
    "    {\n",
    "        'date': datetime(2025, 2, 12),\n",
    "        'author': 'Giselle',\n",
    "        'rating': 4,\n",
    "        'text': 'The ambiance here is always inviting and comfortable.' \n",
    "    },\n",
    "    {\n",
    "        'date': datetime(2025, 3, 25),\n",
    "        'author': 'Elise',\n",
    "        'rating': 4,\n",
    "        'text': 'Efficiency and punctuality are hallmarks of their service.' \n",
    "    },\n",
    "    {\n",
    "        'date': datetime(2025, 4, 1),\n",
    "        'author': 'Grigory',\n",
    "        'rating': 4,\n",
    "        'text': 'They are reliable, honest and operate with integrity.' \n",
    "    }\n",
    "]\n",
    "\n",
    "recent_reviews.insert_many(new_reviews)\n",
    "\n",
    "print_items_short(recent_reviews.find())"
   ]
  },
  {
   "cell_type": "markdown",
   "metadata": {},
   "source": [
    "1. Перевірте що при досягненні обмеження старі відгуки будуть затиратись."
   ]
  },
  {
   "cell_type": "code",
   "execution_count": 467,
   "metadata": {},
   "outputs": [
    {
     "name": "stdout",
     "output_type": "stream",
     "text": [
      "{'_id': ObjectId('67f55a80c9c92197da108827'), 'date': datetime.datetime(2025, 2, 12, 0, 0), 'author': 'Giselle', 'rating': 4, 'text': 'The ambiance here is always inviting and comfortable.'}\n",
      "{'_id': ObjectId('67f55a80c9c92197da108828'), 'date': datetime.datetime(2025, 3, 25, 0, 0), 'author': 'Elise', 'rating': 4, 'text': 'Efficiency and punctuality are hallmarks of their service.'}\n",
      "{'_id': ObjectId('67f55a80c9c92197da108829'), 'date': datetime.datetime(2025, 4, 1, 0, 0), 'author': 'Grigory', 'rating': 4, 'text': 'They are reliable, honest and operate with integrity.'}\n",
      "{'_id': ObjectId('67f55a80c9c92197da10882a'), 'date': datetime.datetime(2025, 4, 7, 0, 0), 'author': 'Vitalii', 'rating': 5, 'text': 'My brother recommended this store to me. Their service is even better than I expected.'}\n",
      "{'_id': ObjectId('67f55a80c9c92197da10882b'), 'date': datetime.datetime(2025, 4, 8, 0, 0), 'author': 'Beatrice', 'rating': 1, 'text': '.'}\n"
     ]
    }
   ],
   "source": [
    "new_reviews = [\n",
    "    {\n",
    "        'date': datetime(2025, 4, 7),\n",
    "        'author': 'Vitalii',\n",
    "        'rating': 5,\n",
    "        'text': 'My brother recommended this store to me. Their service is even better than I expected.' \n",
    "    },\n",
    "    {\n",
    "        'date': datetime(2025, 4, 8),\n",
    "        'author': 'Beatrice',\n",
    "        'rating': 1,\n",
    "        'text': '.' \n",
    "    }\n",
    "]\n",
    "\n",
    "recent_reviews.insert_many(new_reviews)\n",
    "\n",
    "print_items_short(recent_reviews.find())"
   ]
  }
 ],
 "metadata": {
  "kernelspec": {
   "display_name": "Python 3",
   "language": "python",
   "name": "python3"
  },
  "language_info": {
   "codemirror_mode": {
    "name": "ipython",
    "version": 3
   },
   "file_extension": ".py",
   "mimetype": "text/x-python",
   "name": "python",
   "nbconvert_exporter": "python",
   "pygments_lexer": "ipython3",
   "version": "3.13.2"
  }
 },
 "nbformat": 4,
 "nbformat_minor": 2
}
